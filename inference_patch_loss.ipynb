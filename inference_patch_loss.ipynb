{
 "cells": [
  {
   "cell_type": "code",
   "execution_count": 1,
   "id": "36220b87-a5f5-4c22-8d3a-c1f78ec03fa8",
   "metadata": {
    "tags": []
   },
   "outputs": [],
   "source": [
    "import typing\n",
    "import io\n",
    "import os\n",
    "\n",
    "import torch\n",
    "import numpy as np\n",
    "import cv2\n",
    "import matplotlib.pyplot as plt\n",
    "import json\n",
    "\n",
    "from urllib.request import urlretrieve\n",
    "\n",
    "from PIL import Image\n",
    "from torchvision import transforms\n",
    "\n",
    "from models.modeling_seg import ActiveTestVisionTransformer, CONFIGS\n",
    "\n",
    "from utils.data_utils_feature import *\n",
    "\n",
    "def read_one_results(path):\n",
    "    with open(path, \"r\") as outfile:\n",
    "        data = json.load(outfile)\n",
    "    return data\n",
    "\n",
    "def write_one_results(json_data, path):\n",
    "    with open(path, \"w\") as outfile:\n",
    "        json.dump(json_data, outfile)"
   ]
  },
  {
   "cell_type": "code",
   "execution_count": 2,
   "id": "6070bc6f-ebbe-49e6-88cb-e44b04e81d82",
   "metadata": {
    "tags": []
   },
   "outputs": [],
   "source": [
    "%%capture\n",
    "config = CONFIGS[\"ViT-B_8\"]\n",
    "config.input_feature_dim = 25\n",
    "model = ActiveTestVisionTransformer(config, num_classes=50, zero_head=False, img_size=240, vis=True)\n",
    "model_checkpoint = \"./output/ViT-output-PSPNet-VOC-train-ordinal-image-split-2x2_checkpoint_8000.bin\"\n",
    "model.load_state_dict(torch.load(model_checkpoint))\n",
    "model.eval()"
   ]
  },
  {
   "cell_type": "code",
   "execution_count": 3,
   "id": "e8b7916a-853b-40a3-b76c-29527caa4304",
   "metadata": {
    "tags": []
   },
   "outputs": [],
   "source": [
    "split = \"val\"\n",
    "model_data_path = \"/workspace/pytorch-segmentation/pro_data/PSPNet_VOC/\"\n",
    "annotation_dir = model_data_path + split + \"/image_split_2_2_true_losses.npy\"\n",
    "inputs_path = model_data_path + split\n",
    "train_loader = FeatureDataset(inputs_path, annotation_dir, aug=False)"
   ]
  },
  {
   "cell_type": "code",
   "execution_count": 5,
   "id": "e1c41cb5-6b6f-4f84-948f-7ffc71354907",
   "metadata": {
    "tags": []
   },
   "outputs": [
    {
     "name": "stdout",
     "output_type": "stream",
     "text": [
      "Process 99\n",
      "Process 199\n",
      "Process 299\n",
      "Process 399\n",
      "Process 499\n",
      "Process 599\n",
      "Process 699\n",
      "Process 799\n",
      "Process 899\n",
      "Process 999\n",
      "Process 1099\n",
      "Process 1199\n",
      "Process 1299\n",
      "Process 1399\n",
      "Process 1499\n",
      "Process 1599\n",
      "Process 1699\n",
      "Process 1799\n",
      "Process 1899\n",
      "Process 1999\n",
      "Process 2099\n",
      "Process 2199\n",
      "Process 2299\n",
      "Process 2399\n",
      "Process 2499\n",
      "Process 2599\n",
      "Process 2699\n",
      "Process 2799\n",
      "Process 2899\n",
      "Process 2999\n",
      "Process 3099\n",
      "Process 3199\n",
      "Process 3299\n",
      "Process 3399\n",
      "Process 3499\n",
      "Process 3599\n",
      "Process 3699\n",
      "Process 3799\n",
      "Process 3899\n",
      "Process 3999\n",
      "Process 4099\n",
      "Process 4199\n",
      "Process 4299\n",
      "Process 4399\n",
      "Process 4499\n",
      "Process 4599\n",
      "Process 4699\n",
      "Process 4799\n",
      "Process 4899\n",
      "Process 4999\n",
      "Process 5099\n",
      "Process 5199\n",
      "Process 5299\n",
      "Process 5399\n",
      "Process 5499\n",
      "Process 5599\n",
      "Process 5699\n"
     ]
    }
   ],
   "source": [
    "estimate_loss_list = None\n",
    "for i in range(1449*4):\n",
    "    feature, label = train_loader.__getitem__(i)\n",
    "    patch_loss_estimation = model.forward_patch_result(feature.unsqueeze(0))\n",
    "    estimated_loss = tensor_ordinal_to_float_patch(patch_loss_estimation)\n",
    "    estimated_loss = estimated_loss.numpy()\n",
    "    if estimate_loss_list is None:\n",
    "        estimate_loss_list = estimated_loss\n",
    "    else:\n",
    "        estimate_loss_list = np.concatenate((estimate_loss_list, estimated_loss))\n",
    "    if (i+1)%100 == 0:\n",
    "        print(f\"Process {i}\")"
   ]
  },
  {
   "cell_type": "code",
   "execution_count": 6,
   "id": "fc55fdf1-aa71-4da3-8b21-e56b7686e553",
   "metadata": {
    "tags": []
   },
   "outputs": [],
   "source": [
    "store_path = \"./output/region_8_8_split/ViT-output-PSPNet-VOC-train-ordinal-image-split-2x2_losses_8000.json\"\n",
    "json_object = {\"losses\":estimate_loss_list.tolist()}\n",
    "write_one_results(json_object, store_path)"
   ]
  },
  {
   "cell_type": "code",
   "execution_count": 26,
   "id": "5a837c16-ac89-460a-a6e7-f7a147257990",
   "metadata": {},
   "outputs": [],
   "source": [
    "def display_one_sample_result(index):\n",
    "    feature, label = train_loader.__getitem__(index)\n",
    "    patch_loss_estimation = model.forward_patch_result(feature.unsqueeze(0))\n",
    "    estimated_loss = tensor_ordinal_to_float_patch(patch_loss_estimation)\n",
    "    estimated_loss = estimated_loss.numpy()\n",
    "    print(\"Estimate\")\n",
    "    plt.matshow(patch_loss_estimation.argmax(dim=1).reshape(30,30))\n",
    "    plt.colorbar()\n",
    "    plt.show()\n",
    "    print(\"Label\")\n",
    "    plt.matshow(label[1:].reshape(30,30))\n",
    "    plt.colorbar()\n",
    "    plt.show()"
   ]
  },
  {
   "cell_type": "code",
   "execution_count": 27,
   "id": "057a32cc-d778-41e8-ad31-989f0b2dd82e",
   "metadata": {
    "tags": []
   },
   "outputs": [
    {
     "name": "stdout",
     "output_type": "stream",
     "text": [
      "Estimate\n"
     ]
    },
    {
     "data": {
      "image/png": "[encoded data removed]",
      "text/plain": [
       "<Figure size 288x288 with 2 Axes>"
      ]
     },
     "metadata": {
      "needs_background": "light"
     },
     "output_type": "display_data"
    },
    {
     "name": "stdout",
     "output_type": "stream",
     "text": [
      "Label\n"
     ]
    },
    {
     "data": {
      "image/png": "[encoded data removed]",
      "text/plain": [
       "<Figure size 288x288 with 2 Axes>"
      ]
     },
     "metadata": {
      "needs_background": "light"
     },
     "output_type": "display_data"
    }
   ],
   "source": [
    "display_one_sample_result(0)"
   ]
  },
  {
   "cell_type": "code",
   "execution_count": 28,
   "id": "11edec32-3c21-431d-b836-1feacf3e2460",
   "metadata": {
    "tags": []
   },
   "outputs": [
    {
     "name": "stdout",
     "output_type": "stream",
     "text": [
      "Estimate\n"
     ]
    },
    {
     "data": {
      "image/png": "[encoded data removed]",
      "text/plain": [
       "<Figure size 288x288 with 2 Axes>"
      ]
     },
     "metadata": {
      "needs_background": "light"
     },
     "output_type": "display_data"
    },
    {
     "name": "stdout",
     "output_type": "stream",
     "text": [
      "Label\n"
     ]
    },
    {
     "data": {
      "image/png": "[encoded data removed]",
      "text/plain": [
       "<Figure size 288x288 with 2 Axes>"
      ]
     },
     "metadata": {
      "needs_background": "light"
     },
     "output_type": "display_data"
    }
   ],
   "source": [
    "display_one_sample_result(1)"
   ]
  },
  {
   "cell_type": "code",
   "execution_count": 29,
   "id": "beb54de0-2779-4119-a58d-39d6a55b0d08",
   "metadata": {
    "tags": []
   },
   "outputs": [
    {
     "name": "stdout",
     "output_type": "stream",
     "text": [
      "Estimate\n"
     ]
    },
    {
     "data": {
      "image/png": "[encoded data removed]",
      "text/plain": [
       "<Figure size 288x288 with 2 Axes>"
      ]
     },
     "metadata": {
      "needs_background": "light"
     },
     "output_type": "display_data"
    },
    {
     "name": "stdout",
     "output_type": "stream",
     "text": [
      "Label\n"
     ]
    },
    {
     "data": {
      "image/png": "[encoded data removed]",
      "text/plain": [
       "<Figure size 288x288 with 2 Axes>"
      ]
     },
     "metadata": {
      "needs_background": "light"
     },
     "output_type": "display_data"
    }
   ],
   "source": [
    "display_one_sample_result(2)"
   ]
  },
  {
   "cell_type": "code",
   "execution_count": 30,
   "id": "13eb157f-0524-405a-9ebd-3de13ce776a1",
   "metadata": {
    "tags": []
   },
   "outputs": [
    {
     "name": "stdout",
     "output_type": "stream",
     "text": [
      "Estimate\n"
     ]
    },
    {
     "data": {
      "image/png": "[encoded data removed]",
      "text/plain": [
       "<Figure size 288x288 with 2 Axes>"
      ]
     },
     "metadata": {
      "needs_background": "light"
     },
     "output_type": "display_data"
    },
    {
     "name": "stdout",
     "output_type": "stream",
     "text": [
      "Label\n"
     ]
    },
    {
     "data": {
      "image/png": "[encoded data removed]",
      "text/plain": [
       "<Figure size 288x288 with 2 Axes>"
      ]
     },
     "metadata": {
      "needs_background": "light"
     },
     "output_type": "display_data"
    }
   ],
   "source": [
    "display_one_sample_result(3)"
   ]
  },
  {
   "cell_type": "code",
   "execution_count": 31,
   "id": "0e301a25-f1ac-4df4-9bde-212fa40d3fed",
   "metadata": {
    "tags": []
   },
   "outputs": [
    {
     "name": "stdout",
     "output_type": "stream",
     "text": [
      "Estimate\n"
     ]
    },
    {
     "data": {
      "image/png": "[encoded data removed]",
      "text/plain": [
       "<Figure size 288x288 with 2 Axes>"
      ]
     },
     "metadata": {
      "needs_background": "light"
     },
     "output_type": "display_data"
    },
    {
     "name": "stdout",
     "output_type": "stream",
     "text": [
      "Label\n"
     ]
    },
    {
     "data": {
      "image/png": "[encoded data removed]",
      "text/plain": [
       "<Figure size 288x288 with 2 Axes>"
      ]
     },
     "metadata": {
      "needs_background": "light"
     },
     "output_type": "display_data"
    }
   ],
   "source": [
    "display_one_sample_result(11)"
   ]
  },
  {
   "cell_type": "code",
   "execution_count": null,
   "id": "3fe8aff6-c0b7-4304-ac7f-3e0da366a0fb",
   "metadata": {},
   "outputs": [],
   "source": []
  }
 ],
 "metadata": {
  "kernelspec": {
   "display_name": "Python 3 (ipykernel)",
   "language": "python",
   "name": "python3"
  },
  "language_info": {
   "codemirror_mode": {
    "name": "ipython",
    "version": 3
   },
   "file_extension": ".py",
   "mimetype": "text/x-python",
   "name": "python",
   "nbconvert_exporter": "python",
   "pygments_lexer": "ipython3",
   "version": "3.7.13"
  }
 },
 "nbformat": 4,
 "nbformat_minor": 5
}
