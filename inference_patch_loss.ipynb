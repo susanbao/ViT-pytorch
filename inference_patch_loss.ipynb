{
 "cells": [
  {
   "cell_type": "code",
   "execution_count": 1,
   "id": "36220b87-a5f5-4c22-8d3a-c1f78ec03fa8",
   "metadata": {
    "tags": []
   },
   "outputs": [],
   "source": [
    "import typing\n",
    "import io\n",
    "import os\n",
    "\n",
    "import torch\n",
    "import numpy as np\n",
    "import cv2\n",
    "import matplotlib.pyplot as plt\n",
    "import json\n",
    "\n",
    "from urllib.request import urlretrieve\n",
    "\n",
    "from PIL import Image\n",
    "from torchvision import transforms\n",
    "\n",
    "from models.modeling_seg import ActiveTestVisionTransformer, CONFIGS\n",
    "\n",
    "from utils.data_utils_feature import *\n",
    "\n",
    "def read_one_results(path):\n",
    "    with open(path, \"r\") as outfile:\n",
    "        data = json.load(outfile)\n",
    "    return data\n",
    "\n",
    "def write_one_results(json_data, path):\n",
    "    with open(path, \"w\") as outfile:\n",
    "        json.dump(json_data, outfile)\n",
    "\n",
    "def np_read(file):\n",
    "    with open(file, \"rb\") as outfile:\n",
    "        data = np.load(outfile)\n",
    "    return data"
   ]
  },
  {
   "cell_type": "markdown",
   "id": "696ee38f-547d-4319-a97f-c6c65af4751d",
   "metadata": {},
   "source": [
    "## 16 X 16 region based loss estmation inference"
   ]
  },
  {
   "cell_type": "code",
   "execution_count": 2,
   "id": "6070bc6f-ebbe-49e6-88cb-e44b04e81d82",
   "metadata": {
    "tags": []
   },
   "outputs": [],
   "source": [
    "%%capture\n",
    "config = CONFIGS[\"ViT-B_16\"]\n",
    "config.input_feature_dim = 25\n",
    "model = ActiveTestVisionTransformer(config, num_classes=50, zero_head=False, img_size=480, vis=True)\n",
    "model_checkpoint = \"./output/ViT-output-PSPNet-VOC-train-ordinal-new_checkpoint_3600.bin\"\n",
    "model.load_state_dict(torch.load(model_checkpoint))\n",
    "model.eval()\n",
    "split = \"val\"\n",
    "model_data_path = \"/workspace/pytorch-segmentation/pro_data/PSPNet_VOC/\"\n",
    "annotation_dir = model_data_path + split + \"/image_true_losses.npy\"\n",
    "inputs_path = model_data_path + split\n",
    "train_loader = FeatureDataset(inputs_path, annotation_dir, aug=False)\n",
    "estimate_loss_list = None\n",
    "for i in range(1449):\n",
    "    feature, label = train_loader.__getitem__(i)\n",
    "    patch_loss_estimation = model.forward_patch_result(feature.unsqueeze(0))\n",
    "    estimated_loss = tensor_ordinal_to_float(patch_loss_estimation)\n",
    "    estimated_loss = estimated_loss.numpy()\n",
    "    if estimate_loss_list is None:\n",
    "        estimate_loss_list = estimated_loss\n",
    "    else:\n",
    "        estimate_loss_list = np.concatenate((estimate_loss_list, estimated_loss))\n",
    "    if (i+1)%100 == 0:\n",
    "        print(f\"Process {i}\")\n",
    "store_path = \"./output/region_16_16/ViT-output-PSPNet-VOC-train-ordinal-new_losses_3600.json\"\n",
    "json_object = {\"losses\":estimate_loss_list.tolist()}\n",
    "write_one_results(json_object, store_path)"
   ]
  },
  {
   "cell_type": "markdown",
   "id": "c9c5c3f3-ea1f-4d4f-9c9f-03eaaeec2206",
   "metadata": {},
   "source": [
    "## 8 X 8 region based loss estmation inference"
   ]
  },
  {
   "cell_type": "code",
   "execution_count": 2,
   "id": "7db0ed72-6ecf-4668-9a3e-0bdc1370e91e",
   "metadata": {
    "tags": []
   },
   "outputs": [],
   "source": [
    "%%capture\n",
    "config = CONFIGS[\"ViT-B_8\"]\n",
    "config.input_feature_dim = 25\n",
    "model = ActiveTestVisionTransformer(config, num_classes=50, zero_head=False, img_size=240, vis=True)\n",
    "model_checkpoint = \"./output/ViT-output-PSPNet-VOC-train-ordinal-8x8-loss-order_checkpoint_40000.bin\"\n",
    "model.load_state_dict(torch.load(model_checkpoint))\n",
    "model.eval()"
   ]
  },
  {
   "cell_type": "code",
   "execution_count": 3,
   "id": "711f8db0-e21d-43c6-b2b6-953ca68a996d",
   "metadata": {
    "tags": []
   },
   "outputs": [],
   "source": [
    "split = \"val\"\n",
    "model_data_path = \"../pytorch-segmentation/pro_data/PSPNet_VOC/\"\n",
    "annotation_dir = model_data_path + split + \"/image_true_losses.npy\"\n",
    "inputs_path = model_data_path + split\n",
    "train_loader = FeatureDataset(inputs_path, annotation_dir, aug=False)"
   ]
  },
  {
   "cell_type": "code",
   "execution_count": 4,
   "id": "7f7b22f2-ba5f-4960-bc1f-00d47140b19e",
   "metadata": {
    "tags": []
   },
   "outputs": [],
   "source": [
    "i = 13\n",
    "patch_estimated_loss = np.zeros((3600))\n",
    "feature, label, index = train_loader.get_item_with_indices(i)\n",
    "patch_loss_estimation = model.forward_patch_result(feature.unsqueeze(0))\n",
    "estimated_loss = tensor_ordinal_to_float_patch(patch_loss_estimation)\n",
    "estimated_loss = estimated_loss.numpy()\n",
    "patch_estimated_loss[index] = estimated_loss"
   ]
  },
  {
   "cell_type": "code",
   "execution_count": 5,
   "id": "dde9536c-3d69-4b0e-b992-6e96aa44e3ea",
   "metadata": {
    "tags": []
   },
   "outputs": [
    {
     "data": {
      "text/plain": [
       "tensor([ 2,  0,  0,  0,  0,  0,  0,  0,  0,  0,  0,  0,  0,  0,  0,  0,  0,  0,\n",
       "         0,  0,  0,  0,  0,  0,  0,  0,  0,  0,  0,  0,  0,  0,  0,  0,  0,  0,\n",
       "         0,  0,  0,  0,  0,  0,  0,  0,  0,  0,  0,  0,  0,  0,  0,  0,  0,  0,\n",
       "         0,  0,  0,  0,  0,  0,  0,  0,  0,  0,  0,  0,  0,  0,  0,  0,  0,  0,\n",
       "         0,  0,  0,  0,  0,  0,  0,  0,  0,  0,  0,  0,  0,  0,  0,  0,  0,  0,\n",
       "         0,  0,  0,  0,  0,  0,  0,  0,  0,  0,  0,  0,  0,  0,  0,  0,  0,  0,\n",
       "         0,  0,  0,  0,  0,  0,  0,  0,  0,  0,  0,  0,  0,  0,  0,  0,  0,  0,\n",
       "         0,  0,  0,  0,  0,  0,  0,  0,  0,  0,  0,  0,  0,  0,  0,  0,  0,  0,\n",
       "         0,  0,  0,  0,  0,  0,  0,  0,  0,  0,  0,  0,  0,  0,  0,  0,  0,  0,\n",
       "         0,  0,  0,  0,  0,  0,  0,  0,  0,  0,  0,  0,  0,  0,  0,  0,  0,  0,\n",
       "         0,  0,  0,  0,  0,  0,  0,  0,  0,  0,  0,  0,  0,  0,  0,  0,  4,  7,\n",
       "         1,  0,  0,  0,  0,  0,  0,  0,  0,  0,  0,  0,  0,  0,  2,  5,  3,  0,\n",
       "         0,  1,  0,  0,  0,  0,  0,  1,  1,  3, 10,  9,  6,  4,  2,  2,  1,  1,\n",
       "         0,  0,  1,  2,  0,  0,  1,  2,  1,  5, 10,  5,  1,  1,  0,  0,  0,  0,\n",
       "         0,  1,  0,  0,  0,  0,  0,  0,  0,  0,  0,  2,  4,  2,  5,  7,  2,  0,\n",
       "         0,  0,  0,  0,  0,  0,  0,  0,  1,  0,  0,  0,  2,  4,  5,  4,  1,  3,\n",
       "         5,  2,  4,  5,  1,  0,  0,  0,  0,  0,  0,  0,  0,  0,  1,  0,  0,  0,\n",
       "         2,  7,  9,  5,  2,  3,  4,  2,  3,  3,  1,  0,  0,  0,  0,  0,  0,  0,\n",
       "         0,  0,  0,  0,  0,  0,  0,  4,  8,  3,  3,  4,  5,  1,  3,  2,  1,  0,\n",
       "         0,  0,  0,  0,  0,  0,  0,  0,  0,  0,  0,  0,  0,  0,  3,  4,  1,  4,\n",
       "         5,  4,  1,  2,  1,  0,  0,  0,  0,  0,  0,  0,  0,  0,  0,  0,  2,  3,\n",
       "         2,  2,  2,  2,  1,  5,  4,  4,  1,  2,  1,  0,  0,  0,  0,  0,  0,  0,\n",
       "         0,  0,  0,  0,  0,  3,  7,  4,  2,  1,  1,  1,  4,  3,  2,  1,  2,  0,\n",
       "         0,  0,  0,  0,  0,  0,  0,  0,  0,  0,  0,  0,  0,  1,  6,  4,  3,  3,\n",
       "         1,  2,  2,  2,  1,  3,  1,  0,  0,  0,  0,  0,  0,  0,  0,  0,  0,  0,\n",
       "         0,  0,  0,  7, 10,  6,  0,  1,  2,  1,  3,  3,  1,  1,  0,  0,  0,  0,\n",
       "         0,  0,  0,  0,  0,  0,  0,  0,  7,  8,  0,  1,  1,  0,  6,  5,  2,  1,\n",
       "         0,  0,  0,  0,  0,  0,  0,  0,  0,  1,  0,  0,  0,  0,  0,  2,  0,  0,\n",
       "         0,  0,  9,  7,  3,  2,  1,  0,  0,  0,  0,  0,  0,  0,  0,  1,  0,  0,\n",
       "         0,  0,  0,  0,  0,  0,  0,  0, 11,  9,  5,  4,  2,  1,  0,  0,  0,  0,\n",
       "         0,  1,  1,  7,  0,  0,  0,  0,  0,  0,  0,  0,  5,  5,  4,  4,  3,  2,\n",
       "         1,  0,  0,  0,  0,  1, 14, 21,  0,  0,  0,  0,  0,  0,  0,  0,  0,  0,\n",
       "         0,  0,  0,  0,  0,  0,  0,  2,  8,  7,  0,  0,  0,  0,  0,  0,  0,  0,\n",
       "         0,  0,  0,  0,  0,  0,  0,  0,  0,  0,  0,  0,  0,  0,  0,  0,  0,  0,\n",
       "         0,  0,  0,  0,  0,  0,  0,  0,  0,  0,  0,  0,  0,  0,  0,  0,  0,  0,\n",
       "         0,  0,  0,  0,  0,  0,  0,  0,  0,  0,  0,  0,  0,  0,  0,  0,  0,  0,\n",
       "         0,  0,  0,  0,  0,  0,  0,  0,  0,  0,  0,  0,  0,  0,  0,  0,  0,  0,\n",
       "         0,  0,  0,  0,  0,  0,  0,  0,  0,  0,  0,  0,  0,  0,  0,  0,  0,  0,\n",
       "         0,  0,  0,  0,  0,  0,  0,  0,  0,  0,  0,  0,  0,  0,  0,  0,  0,  0,\n",
       "         0,  0,  0,  0,  0,  0,  0,  0,  0,  0,  0,  0,  0,  0,  0,  0,  0,  0,\n",
       "         0,  0,  0,  0,  0,  0,  0,  0,  0,  0,  0,  0,  0,  0,  0,  0,  0,  0,\n",
       "         0,  0,  0,  0,  0,  0,  0,  0,  1,  1,  0,  0,  0,  0,  0,  0,  0,  0,\n",
       "         0,  0,  0,  0,  0,  0,  0,  0,  0,  0,  0,  0,  0,  0,  0,  0,  0,  0,\n",
       "         0,  0,  0,  0,  0,  0,  0,  0,  0,  0,  0,  1,  1,  1,  1,  0,  0,  0,\n",
       "         0,  0,  0,  0,  0,  0,  0,  0,  0,  0,  0,  0,  0,  0,  0,  0,  0,  0,\n",
       "         0,  0,  0,  0,  0,  0,  0,  0,  0,  0,  0,  0,  0,  0,  0,  0,  0,  0,\n",
       "         0,  0,  0,  0,  0,  0,  0,  0,  0,  0,  0,  0,  0,  0,  0,  0,  0,  0,\n",
       "         0,  0,  0,  0,  0,  0,  0,  0,  0,  0,  0,  0,  0,  0,  0,  0,  0,  0,\n",
       "         0,  0,  0,  0,  0,  0,  0,  0,  0,  0,  0,  0,  0,  0,  0,  0,  0,  0,\n",
       "         0,  0,  0,  0,  0,  0,  0,  0,  0,  0,  0,  0,  0,  0,  0,  0,  0,  0])"
      ]
     },
     "execution_count": 5,
     "metadata": {},
     "output_type": "execute_result"
    }
   ],
   "source": [
    "label[np.where(torch.argmax(patch_loss_estimation, dim=1)>0)]"
   ]
  },
  {
   "cell_type": "code",
   "execution_count": 6,
   "id": "a29d0010-d5ce-4642-b5dc-1dd29e70059e",
   "metadata": {
    "tags": []
   },
   "outputs": [
    {
     "data": {
      "text/plain": [
       "(array([  0,   1,   2,   3,   4,   5,   6,   7,   8,   9,  10,  11,  12,\n",
       "         13,  14,  15,  16,  17,  18,  19,  20,  21,  22,  23,  24,  25,\n",
       "         26,  27,  28,  29,  30,  31,  32,  33,  34,  35,  36,  37,  38,\n",
       "         39,  40,  41,  42,  43,  44,  45,  46,  47,  48,  49,  50,  51,\n",
       "         52,  53,  54,  55,  56,  57,  58,  59,  60,  61,  62,  63,  64,\n",
       "         65,  66,  67,  68,  69,  70,  71,  72,  73,  74,  75,  76,  77,\n",
       "         78,  79,  80,  81,  82,  83,  84,  85,  86,  87,  88,  89,  90,\n",
       "         91,  92,  93,  94,  95,  96,  97,  98,  99, 100, 101, 102, 103,\n",
       "        104, 105, 106, 107, 108, 109, 110, 111, 112, 113, 114, 115, 116,\n",
       "        117, 118, 119, 120, 121, 122, 123, 124, 125, 126, 127, 128, 129,\n",
       "        130, 131, 132, 133, 134, 135, 136, 137, 138, 139, 140, 141, 142,\n",
       "        143, 144, 145, 146, 147, 148, 149, 150, 151, 152, 153, 154, 155,\n",
       "        156, 157, 158, 159, 160, 161, 162, 163, 164, 165, 166, 167, 168,\n",
       "        169, 170, 171, 172, 173, 174, 175, 176, 177, 178, 179, 180, 181,\n",
       "        182, 183, 184, 185, 186, 187, 188, 189, 190, 191, 192, 193, 194,\n",
       "        195, 196, 197, 198, 199, 200, 201, 202, 203, 204, 205, 206, 207,\n",
       "        208, 209, 210, 211, 212, 213, 214, 215, 216, 217, 218, 219, 220,\n",
       "        221, 222, 223, 224, 225, 226, 227, 228, 229, 230, 231, 232, 233,\n",
       "        234, 235, 236, 237, 238, 239, 240, 241, 242, 243, 244, 245, 246,\n",
       "        247, 248, 249, 250, 251, 252, 253, 254, 255, 256, 257, 258, 259,\n",
       "        260, 261, 262, 263, 264, 265, 266, 267, 268, 269, 270, 271, 272,\n",
       "        273, 274, 275, 276, 277, 278, 279, 280, 281, 282, 283, 284, 285,\n",
       "        286, 287, 288, 289, 290, 291, 292, 293, 294, 295, 296, 297, 298,\n",
       "        299, 300, 301, 302, 303, 304, 305, 306, 307, 308, 309, 310, 311,\n",
       "        312, 313, 314, 315, 316, 317, 318, 319, 320, 321, 322, 323, 324,\n",
       "        325, 326, 327, 328, 329, 330, 331, 332, 333, 334, 335, 336, 337,\n",
       "        338, 339, 340, 341, 342, 343, 344, 345, 346, 347, 348, 349, 350,\n",
       "        351, 352, 353, 354, 355, 356, 357, 358, 359, 360, 361, 362, 363,\n",
       "        364, 365, 366, 367, 368, 369, 370, 371, 372, 373, 374, 375, 376,\n",
       "        377, 378, 379, 380, 381, 382, 383, 384, 385, 386, 387, 388, 389,\n",
       "        390, 391, 392, 393, 394, 395, 396, 397, 398, 399, 400, 401, 402,\n",
       "        403, 404, 405, 406, 407, 408, 409, 410, 411, 412, 413, 414, 415,\n",
       "        416, 417, 418, 419, 420, 421, 422, 423, 424, 425, 426, 427, 428,\n",
       "        429, 430, 431, 432, 433, 434, 435, 436, 437, 438, 439, 440, 441,\n",
       "        442, 443, 444, 445, 446, 447, 448, 449, 450, 451, 452, 453, 454,\n",
       "        455, 456, 457, 458, 459, 460, 461, 462, 463, 464, 465, 466, 467,\n",
       "        468, 469, 470, 471, 472, 473, 474, 475, 476, 477, 478, 479, 480,\n",
       "        481, 482, 483, 484, 485, 486, 487, 488, 489, 490, 491, 492, 493,\n",
       "        494, 495, 496, 497, 498, 499, 500, 501, 502, 503, 504, 505, 506,\n",
       "        507, 508, 509, 510, 511, 512, 513, 514, 515, 516, 517, 518, 519,\n",
       "        520, 521, 522, 523, 524, 525, 526, 527, 528, 529, 530, 531, 532,\n",
       "        533, 534, 535, 536, 537, 538, 539, 540, 541, 542, 543, 544, 545,\n",
       "        546, 547, 548, 549, 550, 551, 552, 553, 554, 555, 556, 557, 558,\n",
       "        559, 560, 561, 562, 563, 564, 565, 566, 567, 568, 569, 570, 571,\n",
       "        572, 573, 574, 575, 576, 577, 578, 579, 580, 581, 582, 583, 584,\n",
       "        585, 586, 587, 588, 589, 590, 591, 592, 593, 594, 595, 596, 597,\n",
       "        598, 599, 600, 601, 602, 603, 604, 605, 606, 607, 608, 609, 610,\n",
       "        611, 612, 613, 614, 615, 616, 617, 618, 619, 620, 621, 622, 623,\n",
       "        624, 625, 626, 627, 628, 629, 630, 631, 632, 633, 634, 635, 636,\n",
       "        637, 638, 639, 640, 641, 642, 643, 644, 645, 646, 647, 648, 649,\n",
       "        650, 651, 652, 653, 654, 655, 656, 657, 658, 659, 660, 661, 662,\n",
       "        663, 664, 665, 666, 667, 668, 669, 670, 671, 672, 673, 674, 675,\n",
       "        676, 677, 678, 679, 680, 681, 682, 683, 684, 685, 686, 687, 688,\n",
       "        689, 690, 691, 692, 693, 694, 695, 696, 697, 698, 699, 700, 701,\n",
       "        702, 703, 704, 705, 706, 707, 708, 709, 710, 711, 712, 713, 714,\n",
       "        715, 716, 717, 718, 719, 720, 721, 722, 723, 724, 725, 726, 727,\n",
       "        728, 729, 730, 731, 732, 733, 734, 735, 736, 737, 738, 739, 740,\n",
       "        741, 742, 743, 744, 745, 746, 747, 748, 749, 750, 751, 752, 753,\n",
       "        754, 755, 756, 757, 758, 759, 760, 761, 762, 763, 764, 765, 766,\n",
       "        767, 768, 769, 770, 771, 772, 773, 774, 775, 776, 777, 778, 779,\n",
       "        780, 781, 782, 783, 784, 785, 786, 787, 788, 789, 790, 791, 792,\n",
       "        793, 794, 795, 796, 797, 798, 799, 800, 801, 802, 803, 804, 805,\n",
       "        806, 807, 808, 809, 810, 811, 812, 813, 814, 815, 816, 817, 818,\n",
       "        819, 820, 821, 822, 823, 824, 825, 826, 827, 828, 829, 830, 831,\n",
       "        832, 833, 834, 835, 836, 837, 838, 839, 840, 841, 842, 843, 844,\n",
       "        845, 846, 847, 848, 849, 850, 851, 852, 853, 854, 855, 856, 857,\n",
       "        858, 859, 860, 861, 862, 863, 864, 865, 866, 867, 868, 869, 870,\n",
       "        871, 872, 873, 874, 875, 876, 877, 878, 879, 880, 881, 882, 883,\n",
       "        884, 885, 886, 887, 888, 889, 890, 891, 892, 893, 894, 895, 896,\n",
       "        897, 898, 899]),)"
      ]
     },
     "execution_count": 6,
     "metadata": {},
     "output_type": "execute_result"
    }
   ],
   "source": [
    "np.where(torch.argmax(patch_loss_estimation, dim=1)>0)"
   ]
  },
  {
   "cell_type": "code",
   "execution_count": 7,
   "id": "347a40e3-3f30-413b-8106-5ced910b0332",
   "metadata": {
    "tags": []
   },
   "outputs": [
    {
     "data": {
      "text/plain": [
       "tensor([3, 6, 8, 6, 6, 3, 3, 7, 4, 2, 6, 3, 6, 5, 2, 3, 2, 2, 3, 3, 7, 3, 3, 6,\n",
       "        6, 6, 9, 1, 6, 3, 3, 3, 6, 6, 3, 1, 7, 1, 3, 3, 8, 3, 3, 3, 7, 7, 6, 7,\n",
       "        4, 5, 5, 7, 3, 3, 9, 5, 2, 3, 1, 3, 3, 1, 9, 5, 5, 5, 3, 3, 1, 2, 5, 5,\n",
       "        3, 5, 3, 3, 3, 3, 1, 1, 3, 6, 5, 5, 6, 9, 3, 3, 2, 5, 1, 6, 1, 3, 5, 5,\n",
       "        5, 5, 9, 3, 3, 3, 2, 1, 1, 3, 3, 3, 3, 3, 3, 3, 3, 3, 5, 9, 5, 7, 7, 3,\n",
       "        3, 3, 3, 5, 6, 1, 6, 5, 7, 7, 7, 4, 5, 9, 8, 5, 7, 3, 4, 1, 9, 5, 7, 2,\n",
       "        3, 3, 5, 9, 2, 3, 1, 3, 9, 1, 1, 3, 3, 3, 2, 4, 1, 5, 5, 8, 6, 6, 3, 4,\n",
       "        1, 7])"
      ]
     },
     "execution_count": 7,
     "metadata": {},
     "output_type": "execute_result"
    }
   ],
   "source": [
    "torch.argmax(patch_loss_estimation[np.where(label>0)], dim=1)"
   ]
  },
  {
   "cell_type": "code",
   "execution_count": 9,
   "id": "77bcd1ba-4cbc-40de-b95d-21b29019f0f4",
   "metadata": {
    "tags": []
   },
   "outputs": [
    {
     "name": "stdout",
     "output_type": "stream",
     "text": [
      "Process 99\n",
      "Process 199\n",
      "Process 299\n",
      "Process 399\n",
      "Process 499\n",
      "Process 599\n",
      "Process 699\n",
      "Process 799\n",
      "Process 899\n",
      "Process 999\n",
      "Process 1099\n",
      "Process 1199\n",
      "Process 1299\n",
      "Process 1399\n"
     ]
    }
   ],
   "source": [
    "estimate_loss_list = None\n",
    "for i in range(1449):\n",
    "    patch_estimated_loss = np.zeros((3600))\n",
    "    feature, label, index = train_loader.get_item_with_indices(i)\n",
    "    patch_loss_estimation = model.forward_patch_result(feature.unsqueeze(0))\n",
    "    estimated_loss = tensor_ordinal_to_float_patch(patch_loss_estimation)\n",
    "    estimated_loss = estimated_loss.numpy()\n",
    "    patch_estimated_loss[index] = estimated_loss\n",
    "    if estimate_loss_list is None:\n",
    "        estimate_loss_list = patch_estimated_loss\n",
    "    else:\n",
    "        estimate_loss_list = np.concatenate((estimate_loss_list, patch_estimated_loss))\n",
    "    if (i+1)%100 == 0:\n",
    "        print(f\"Process {i}\")"
   ]
  },
  {
   "cell_type": "code",
   "execution_count": 10,
   "id": "eb026f16-9504-4f62-9c47-c1072195c1bc",
   "metadata": {
    "tags": []
   },
   "outputs": [],
   "source": [
    "store_path = \"./output/region_8_8/ViT-output-PSPNet-VOC-train-ordinal-8x8-loss-order_checkpoint_40000.json\"\n",
    "json_object = {\"losses\":estimate_loss_list.tolist()}\n",
    "write_one_results(json_object, store_path)"
   ]
  },
  {
   "cell_type": "code",
   "execution_count": 12,
   "id": "5a33c905-c6e8-49e5-9764-b292b5bc833a",
   "metadata": {
    "tags": []
   },
   "outputs": [
    {
     "data": {
      "text/plain": [
       "torch.Size([50])"
      ]
     },
     "execution_count": 12,
     "metadata": {},
     "output_type": "execute_result"
    }
   ],
   "source": [
    "conv_values_patch.shape"
   ]
  },
  {
   "cell_type": "markdown",
   "id": "0c48fe2b-1b29-4a68-b64f-d4208c56ba47",
   "metadata": {
    "tags": []
   },
   "source": [
    "## Analysis the relationship between entropy and loss for patch"
   ]
  },
  {
   "cell_type": "code",
   "execution_count": 33,
   "id": "1bf5f831-9617-4454-98f7-589606051b3d",
   "metadata": {
    "tags": []
   },
   "outputs": [
    {
     "data": {
      "image/png": "[encoded data removed]",
      "text/plain": [
       "<Figure size 288x288 with 2 Axes>"
      ]
     },
     "metadata": {
      "needs_background": "light"
     },
     "output_type": "display_data"
    }
   ],
   "source": [
    "def display(losses):\n",
    "    plt.matshow(losses)\n",
    "    plt.colorbar()\n",
    "    plt.show()\n",
    "image_index = 1446\n",
    "feature_dir = \"/workspace/pytorch-segmentation/pro_data/PSPNet_VOC/val/output/\"\n",
    "file_name = str(image_index // 8) + \".npy\"\n",
    "image_loc = image_index % 8\n",
    "one_result = np_read_with_tensor_output(feature_dir + file_name)\n",
    "feature = one_result[image_loc]\n",
    "feature = F.softmax(feature, dim=0)\n",
    "entropy = torch.sum(torch.mul(-feature, torch.log(feature + 1e-20)), dim=0).unsqueeze(dim=0)\n",
    "display(entropy[0])"
   ]
  },
  {
   "cell_type": "code",
   "execution_count": null,
   "id": "52f9abb1-18d9-459d-bf28-59ab547110dc",
   "metadata": {
    "tags": []
   },
   "outputs": [],
   "source": [
    "image_index = 1446\n",
    "entropy = np.zeros((3600))\n",
    "feature, label, index = train_loader.get_item_with_indices(image_index)\n",
    "# feature, label = train_loader.__getitem__(image_index)\n",
    "\n",
    "avgpool = torch.nn.AdaptiveAvgPool2d((30,30))\n",
    "sampled_entropy = feature[-1].unsqueeze(dim=0)\n",
    "sampled_entropy = avgpool(sampled_entropy)\n",
    "entropy[index] = torch.flatten(sampled_entropy)\n",
    "entropy = entropy.reshape((60,60))\n",
    "# entropy = avgpool(entropy)\n",
    "display(entropy)"
   ]
  },
  {
   "cell_type": "code",
   "execution_count": 12,
   "id": "9227ebab-f0c6-4737-b37f-fda0fcd8afd9",
   "metadata": {
    "tags": []
   },
   "outputs": [
    {
     "data": {
      "text/plain": [
       "tensor([[3.6737e-04, 2.2700e-05, 3.9968e-05,  ..., 3.2411e-05, 3.9154e-05,\n",
       "         7.5336e-05],\n",
       "        [4.0757e-05, 2.2914e-06, 1.4765e-06,  ..., 7.4929e-07, 1.7878e-06,\n",
       "         1.2910e-05],\n",
       "        [5.1771e-05, 2.7510e-06, 1.8061e-06,  ..., 6.9011e-07, 1.6691e-06,\n",
       "         1.1766e-05],\n",
       "        ...,\n",
       "        [5.9032e-04, 1.4955e-03, 5.0261e-03,  ..., 2.3291e-04, 3.9995e-04,\n",
       "         1.5039e-03],\n",
       "        [5.4935e-04, 1.8446e-03, 6.7076e-03,  ..., 1.8967e-04, 3.8949e-04,\n",
       "         1.1218e-03],\n",
       "        [5.3630e-04, 1.9040e-03, 6.5245e-03,  ..., 5.4644e-04, 8.0213e-04,\n",
       "         1.0423e-03]])"
      ]
     },
     "metadata": {},
     "output_type": "display_data"
    }
   ],
   "source": [
    "image_index = 0\n",
    "avgpool = torch.nn.AdaptiveAvgPool2d((60,60))\n",
    "loss_dir = \"../pytorch-segmentation/pro_data/PSPNet_VOC/val/loss/\"\n",
    "file_name = str(image_index // 8) + \".npy\"\n",
    "image_loc = image_index % 8\n",
    "losses = np_read_with_tensor_output(loss_dir + file_name)\n",
    "loss = losses[image_loc]\n",
    "loss = torch.unsqueeze(loss, dim=0)\n",
    "loss = avgpool(loss)\n",
    "display(loss[0])"
   ]
  },
  {
   "cell_type": "code",
   "execution_count": 15,
   "id": "c849cfca-4e01-4cbc-9eb4-c660782cd5d9",
   "metadata": {
    "tags": []
   },
   "outputs": [],
   "source": [
    "loss_ordinal = tensor_float_to_ordinal_patch(loss)"
   ]
  },
  {
   "cell_type": "code",
   "execution_count": 21,
   "id": "6cd87ff6-d4b1-428b-963a-a7405f6681ff",
   "metadata": {
    "tags": []
   },
   "outputs": [
    {
     "data": {
      "text/plain": [
       "tensor(115)"
      ]
     },
     "execution_count": 21,
     "metadata": {},
     "output_type": "execute_result"
    }
   ],
   "source": [
    "(loss_ordinal>0).sum()"
   ]
  },
  {
   "cell_type": "code",
   "execution_count": 79,
   "id": "5352ff8f-17c7-4b66-af85-583f6570f46a",
   "metadata": {
    "tags": []
   },
   "outputs": [
    {
     "data": {
      "image/png": "[encoded data removed]",
      "text/plain": [
       "<Figure size 288x288 with 2 Axes>"
      ]
     },
     "metadata": {
      "needs_background": "light"
     },
     "output_type": "display_data"
    }
   ],
   "source": [
    "def display(losses):\n",
    "    plt.matshow(losses)\n",
    "    plt.colorbar()\n",
    "    plt.show()\n",
    "avgpool = torch.nn.AdaptiveAvgPool2d((30,30))\n",
    "entropy = feature[-1].unsqueeze(dim=0)\n",
    "entropy_patch = avgpool(entropy)\n",
    "display(entropy_patch[0])"
   ]
  },
  {
   "cell_type": "code",
   "execution_count": 80,
   "id": "6c28d492-63c0-4cbb-a8e5-248364642b3d",
   "metadata": {
    "tags": []
   },
   "outputs": [
    {
     "data": {
      "image/png": "[encoded data removed]",
      "text/plain": [
       "<Figure size 288x288 with 2 Axes>"
      ]
     },
     "metadata": {
      "needs_background": "light"
     },
     "output_type": "display_data"
    }
   ],
   "source": [
    "loss_dir = \"/workspace/pytorch-segmentation/pro_data/PSPNet_VOC/val/loss/\"\n",
    "file_name = str(image_index // 8) + \".npy\"\n",
    "image_loc = image_index % 8\n",
    "losses = np_read_with_tensor_output(loss_dir + file_name)\n",
    "loss = losses[image_loc]\n",
    "loss = torch.unsqueeze(loss, dim=0)\n",
    "loss = avgpool(loss)\n",
    "display(loss[0])"
   ]
  },
  {
   "cell_type": "code",
   "execution_count": null,
   "id": "db176111-d41e-41ba-80a2-9be65c085bfd",
   "metadata": {},
   "outputs": [],
   "source": []
  }
 ],
 "metadata": {
  "kernelspec": {
   "display_name": "Python 3 (ipykernel)",
   "language": "python",
   "name": "python3"
  },
  "language_info": {
   "codemirror_mode": {
    "name": "ipython",
    "version": 3
   },
   "file_extension": ".py",
   "mimetype": "text/x-python",
   "name": "python",
   "nbconvert_exporter": "python",
   "pygments_lexer": "ipython3",
   "version": "3.7.16"
  }
 },
 "nbformat": 4,
 "nbformat_minor": 5
}
