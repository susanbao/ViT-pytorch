{
 "cells": [
  {
   "cell_type": "code",
   "execution_count": 1,
   "id": "36220b87-a5f5-4c22-8d3a-c1f78ec03fa8",
   "metadata": {
    "tags": []
   },
   "outputs": [],
   "source": [
    "import typing\n",
    "import io\n",
    "import os\n",
    "\n",
    "import torch\n",
    "import numpy as np\n",
    "import cv2\n",
    "import matplotlib.pyplot as plt\n",
    "import json\n",
    "\n",
    "from urllib.request import urlretrieve\n",
    "\n",
    "from PIL import Image\n",
    "from torchvision import transforms\n",
    "\n",
    "from models.modeling_seg import ActiveTestVisionTransformer, CONFIGS\n",
    "\n",
    "from utils.data_utils_feature import FeatureDataset, tensor_ordinal_to_float\n",
    "\n",
    "def read_one_results(path):\n",
    "    with open(path, \"r\") as outfile:\n",
    "        data = json.load(outfile)\n",
    "    return data\n",
    "\n",
    "def write_one_results(json_data, path):\n",
    "    with open(path, \"w\") as outfile:\n",
    "        json.dump(json_data, outfile)"
   ]
  },
  {
   "cell_type": "code",
   "execution_count": 2,
   "id": "6070bc6f-ebbe-49e6-88cb-e44b04e81d82",
   "metadata": {
    "tags": []
   },
   "outputs": [],
   "source": [
    "%%capture\n",
    "config = CONFIGS[\"ViT-B_16\"]\n",
    "config.input_feature_dim = 25\n",
    "model = ActiveTestVisionTransformer(config, num_classes=50, zero_head=False, img_size=480, vis=True)\n",
    "model_checkpoint = \"./output/ViT-output-PSPNet-VOC-train-ordinal-new_checkpoint_3600.bin\"\n",
    "model.load_state_dict(torch.load(model_checkpoint))\n",
    "model.eval()"
   ]
  },
  {
   "cell_type": "code",
   "execution_count": 3,
   "id": "e8b7916a-853b-40a3-b76c-29527caa4304",
   "metadata": {
    "tags": []
   },
   "outputs": [],
   "source": [
    "split = \"val\"\n",
    "model_data_path = \"/workspace/pytorch-segmentation/pro_data/PSPNet_VOC/\"\n",
    "annotation_dir = model_data_path + split + \"/image_true_losses.npy\"\n",
    "inputs_path = model_data_path + split\n",
    "train_loader = FeatureDataset(inputs_path, annotation_dir, aug=False)"
   ]
  },
  {
   "cell_type": "code",
   "execution_count": 9,
   "id": "e1c41cb5-6b6f-4f84-948f-7ffc71354907",
   "metadata": {
    "tags": []
   },
   "outputs": [
    {
     "name": "stdout",
     "output_type": "stream",
     "text": [
      "Process 99\n",
      "Process 199\n",
      "Process 299\n",
      "Process 399\n",
      "Process 499\n",
      "Process 599\n",
      "Process 699\n",
      "Process 799\n",
      "Process 899\n",
      "Process 999\n",
      "Process 1099\n",
      "Process 1199\n",
      "Process 1299\n",
      "Process 1399\n"
     ]
    }
   ],
   "source": [
    "estimate_loss_list = None\n",
    "for i in range(1449):\n",
    "    feature, label = train_loader.__getitem__(i)\n",
    "    patch_loss_estimation = model.forward_patch_result(feature.unsqueeze(0))\n",
    "    estimated_loss = tensor_ordinal_to_float(patch_loss_estimation)\n",
    "    estimated_loss = estimated_loss.numpy()\n",
    "    if estimate_loss_list is None:\n",
    "        estimate_loss_list = estimated_loss\n",
    "    else:\n",
    "        estimate_loss_list = np.concatenate((estimate_loss_list, estimated_loss))\n",
    "    if (i+1)%100 == 0:\n",
    "        print(f\"Process {i}\")"
   ]
  },
  {
   "cell_type": "code",
   "execution_count": 13,
   "id": "fc55fdf1-aa71-4da3-8b21-e56b7686e553",
   "metadata": {
    "tags": []
   },
   "outputs": [],
   "source": [
    "store_path = \"./output/region_16_16/ViT-output-PSPNet-VOC-train-ordinal-new_losses_3600.json\"\n",
    "json_object = {\"losses\":estimate_loss_list.tolist()}\n",
    "write_one_results(json_object, store_path)"
   ]
  },
  {
   "cell_type": "code",
   "execution_count": 4,
   "id": "e8948476-501d-4acc-a1bf-47870d414977",
   "metadata": {
    "tags": []
   },
   "outputs": [],
   "source": [
    "feature, label = train_loader.__getitem__(0)\n",
    "patch_loss_estimation = model.forward_patch_result(feature.unsqueeze(0))\n",
    "estimated_loss = tensor_ordinal_to_float(patch_loss_estimation)\n",
    "estimated_loss = estimated_loss.numpy()"
   ]
  },
  {
   "cell_type": "code",
   "execution_count": 8,
   "id": "06c310e1-a18f-4e2e-96b4-b77b210e5755",
   "metadata": {},
   "outputs": [
    {
     "data": {
      "text/plain": [
       "0.02411111"
      ]
     },
     "execution_count": 8,
     "metadata": {},
     "output_type": "execute_result"
    }
   ],
   "source": [
    "estimated_loss.mean()"
   ]
  },
  {
   "cell_type": "code",
   "execution_count": null,
   "id": "5a837c16-ac89-460a-a6e7-f7a147257990",
   "metadata": {},
   "outputs": [],
   "source": []
  }
 ],
 "metadata": {
  "kernelspec": {
   "display_name": "Python 3 (ipykernel)",
   "language": "python",
   "name": "python3"
  },
  "language_info": {
   "codemirror_mode": {
    "name": "ipython",
    "version": 3
   },
   "file_extension": ".py",
   "mimetype": "text/x-python",
   "name": "python",
   "nbconvert_exporter": "python",
   "pygments_lexer": "ipython3",
   "version": "3.7.13"
  }
 },
 "nbformat": 4,
 "nbformat_minor": 5
}
